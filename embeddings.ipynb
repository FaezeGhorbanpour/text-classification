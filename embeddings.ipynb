{
 "cells": [
  {
   "cell_type": "code",
   "execution_count": 1,
   "metadata": {},
   "outputs": [],
   "source": [
    "import os\n",
    "os.chdir(\"..\")\n",
    "%reload_ext autoreload\n",
    "%autoreload 2\n",
    "%matplotlib inline\n"
   ]
  },
  {
   "cell_type": "code",
   "execution_count": 2,
   "metadata": {},
   "outputs": [],
   "source": [
    "\n",
    "import os, string, collections\n",
    "import numpy as np\n",
    "import pandas as pd\n",
    "import matplotlib.pyplot as plt\n",
    "import seaborn as sns\n",
    "import pandas as pd\n",
    "import numpy as np\n",
    "from tqdm import tqdm\n",
    "tqdm.pandas(desc=\"progress-bar\")\n",
    "from gensim.models import Doc2Vec\n",
    "from sklearn import utils\n",
    "from sklearn.model_selection import train_test_split\n",
    "import gensim\n",
    "from sklearn.linear_model import LogisticRegression\n",
    "from gensim.models.doc2vec import TaggedDocument\n",
    "import re\n",
    "from sklearn.svm import SVC\n",
    "import seaborn as sns\n",
    "import matplotlib.pyplot as plt\n",
    "from gensim.models import word2vec\n",
    "from sklearn import metrics\n",
    "from sklearn.model_selection import train_test_split, cross_val_score \n",
    "from sklearn.feature_extraction.text import TfidfVectorizer\n",
    "from ai_nlp_bazaar_ticket_classification.utils import plot_confusion_matrix"
   ]
  },
  {
   "cell_type": "code",
   "execution_count": 3,
   "metadata": {},
   "outputs": [],
   "source": [
    "PATH = os.getcwd()\n",
    "vocab_size = 15000"
   ]
  },
  {
   "cell_type": "code",
   "execution_count": 4,
   "metadata": {},
   "outputs": [],
   "source": [
    "train_path = os.path.join(PATH, 'data/data/new_level1_train.txt')\n",
    "test_path = os.path.join(PATH, 'data/data/new_level1_test.txt')\n",
    "train = pd.read_csv(train_path, sep=\",\", header=None)\n",
    "test = pd.read_csv(test_path, sep=\",\", header=None)\n",
    "df = pd.concat((train, test))"
   ]
  },
  {
   "cell_type": "code",
   "execution_count": 5,
   "metadata": {},
   "outputs": [
    {
     "data": {
      "text/plain": [
       "id                                                   2814663\n",
       "message    بازار عزیز ما قریب به یک هفته ست منتظریم که تع...\n",
       "subject               عدم نمایش نصب فعال پس از سه روز متوالی\n",
       "type                                          problem_report\n",
       "Name: 0, dtype: object"
      ]
     },
     "execution_count": 5,
     "metadata": {},
     "output_type": "execute_result"
    }
   ],
   "source": [
    "df.columns = ['id', 'message', 'subject', 'type']\n",
    "train.columns = ['id', 'message', 'subject', 'type']\n",
    "test.columns = ['id', 'message', 'subject', 'type']\n",
    "train.iloc[0]"
   ]
  },
  {
   "cell_type": "code",
   "execution_count": 6,
   "metadata": {},
   "outputs": [],
   "source": [
    "df['subject'] = df['subject'].fillna(\"\")\n",
    "train['subject'] = train['subject'].fillna(\"\")\n",
    "test['subject'] = test['subject'].fillna(\"\")\n"
   ]
  },
  {
   "cell_type": "code",
   "execution_count": 7,
   "metadata": {},
   "outputs": [],
   "source": [
    "\n",
    "from ai_nlp_bazaar_ticket_classification.label_config import *\n",
    "df['target'] = df['type'].apply(lambda x: FirstLevelIndexes.get(x))\n",
    "target_list = list(FirstLevelIndexes.keys())"
   ]
  },
  {
   "cell_type": "code",
   "execution_count": 8,
   "metadata": {},
   "outputs": [],
   "source": [
    "import re\n",
    "re_tok = re.compile(f'([{string.punctuation}“”¨«»®´·º½¾¿¡§£₤‘’])')\n",
    "\n",
    "def tokenize(s): \n",
    "    return re_tok.sub(r' \\1 ', s).split()"
   ]
  },
  {
   "cell_type": "code",
   "execution_count": 9,
   "metadata": {},
   "outputs": [],
   "source": [
    "train_tagged = train.apply(\n",
    "    lambda r: TaggedDocument(words=tokenize(r['message']), tags=[r.type]), axis=1)\n",
    "test_tagged = test.apply(\n",
    "    lambda r: TaggedDocument(words=tokenize(r['message']), tags=[r.type]), axis=1)\n",
    "all_tagged = df.apply(\n",
    "    lambda r: TaggedDocument(words=tokenize(r['message']), tags=[r.type]), axis=1)\n"
   ]
  },
  {
   "cell_type": "code",
   "execution_count": 10,
   "metadata": {},
   "outputs": [],
   "source": [
    "import multiprocessing\n",
    "cores = multiprocessing.cpu_count()"
   ]
  },
  {
   "cell_type": "code",
   "execution_count": 11,
   "metadata": {},
   "outputs": [
    {
     "name": "stderr",
     "output_type": "stream",
     "text": [
      "100%|██████████| 15528/15528 [00:00<00:00, 687698.27it/s]\n"
     ]
    }
   ],
   "source": [
    "model_dbow = Doc2Vec(dm=0, vector_size=vocab_size, negative=5, hs=0, min_count=2, sample = 0, workers=cores)\n",
    "model_dbow.build_vocab([x for x in tqdm(all_tagged.values)])"
   ]
  },
  {
   "cell_type": "code",
   "execution_count": 12,
   "metadata": {
    "scrolled": true
   },
   "outputs": [
    {
     "name": "stderr",
     "output_type": "stream",
     "text": [
      "100%|██████████| 15528/15528 [00:00<00:00, 3091231.31it/s]\n",
      "100%|██████████| 15528/15528 [00:00<00:00, 921373.84it/s]\n",
      "100%|██████████| 15528/15528 [00:00<00:00, 767996.23it/s]\n",
      "100%|██████████| 15528/15528 [00:00<00:00, 914170.35it/s]\n",
      "100%|██████████| 15528/15528 [00:00<00:00, 829575.62it/s]\n",
      "100%|██████████| 15528/15528 [00:00<00:00, 867013.04it/s]\n",
      "100%|██████████| 15528/15528 [00:00<00:00, 671940.25it/s]\n",
      "100%|██████████| 15528/15528 [00:00<00:00, 788431.26it/s]\n",
      "100%|██████████| 15528/15528 [00:00<00:00, 921152.30it/s]\n",
      "100%|██████████| 15528/15528 [00:00<00:00, 940126.63it/s]\n",
      "100%|██████████| 15528/15528 [00:00<00:00, 823294.14it/s]\n",
      "100%|██████████| 15528/15528 [00:00<00:00, 858057.69it/s]\n",
      "100%|██████████| 15528/15528 [00:00<00:00, 917079.51it/s]\n",
      "100%|██████████| 15528/15528 [00:00<00:00, 715885.91it/s]\n",
      "100%|██████████| 15528/15528 [00:00<00:00, 717463.15it/s]\n",
      "100%|██████████| 15528/15528 [00:00<00:00, 666548.83it/s]\n",
      "100%|██████████| 15528/15528 [00:00<00:00, 788469.44it/s]\n",
      "100%|██████████| 15528/15528 [00:00<00:00, 874745.18it/s]\n",
      "100%|██████████| 15528/15528 [00:00<00:00, 849739.75it/s]\n",
      "100%|██████████| 15528/15528 [00:00<00:00, 936194.12it/s]\n",
      "100%|██████████| 15528/15528 [00:00<00:00, 918463.32it/s]\n",
      "100%|██████████| 15528/15528 [00:00<00:00, 865687.75it/s]\n",
      "100%|██████████| 15528/15528 [00:00<00:00, 860665.66it/s]\n",
      "100%|██████████| 15528/15528 [00:00<00:00, 910999.17it/s]\n",
      "100%|██████████| 15528/15528 [00:00<00:00, 886919.40it/s]\n",
      "100%|██████████| 15528/15528 [00:00<00:00, 650868.46it/s]\n",
      "100%|██████████| 15528/15528 [00:00<00:00, 844024.53it/s]\n",
      "100%|██████████| 15528/15528 [00:00<00:00, 883826.20it/s]\n",
      "100%|██████████| 15528/15528 [00:00<00:00, 684144.13it/s]\n",
      "100%|██████████| 15528/15528 [00:00<00:00, 927409.01it/s]\n"
     ]
    },
    {
     "name": "stdout",
     "output_type": "stream",
     "text": [
      "CPU times: user 2h 9min 39s, sys: 1h 50min 44s, total: 4h 24s\n",
      "Wall time: 33min 25s\n"
     ]
    }
   ],
   "source": [
    "%%time\n",
    "for epoch in range(30):\n",
    "    model_dbow.train(utils.shuffle([x for x in tqdm(all_tagged.values)]), total_examples=len(all_tagged.values), epochs=1)\n",
    "    model_dbow.alpha -= 0.002\n",
    "    model_dbow.min_alpha = model_dbow.alpha"
   ]
  },
  {
   "cell_type": "code",
   "execution_count": 13,
   "metadata": {},
   "outputs": [],
   "source": [
    "def vec_for_learning(model, tagged_docs):\n",
    "    sents = tagged_docs.values\n",
    "    targets, regressors = zip(*[(doc.tags[0], model.infer_vector(doc.words, steps=20)) for doc in sents])\n",
    "    return targets, regressors"
   ]
  },
  {
   "cell_type": "code",
   "execution_count": 14,
   "metadata": {},
   "outputs": [],
   "source": [
    "y_train, X_train = vec_for_learning(model_dbow, train_tagged)\n",
    "y_test, X_test = vec_for_learning(model_dbow, test_tagged)\n"
   ]
  },
  {
   "cell_type": "code",
   "execution_count": 15,
   "metadata": {},
   "outputs": [
    {
     "name": "stderr",
     "output_type": "stream",
     "text": [
      "/home/faeze/PycharmProjects/ticket_classification/env/lib/python3.6/site-packages/sklearn/linear_model/_logistic.py:764: ConvergenceWarning: lbfgs failed to converge (status=1):\n",
      "STOP: TOTAL NO. of ITERATIONS REACHED LIMIT.\n",
      "\n",
      "Increase the number of iterations (max_iter) or scale the data as shown in:\n",
      "    https://scikit-learn.org/stable/modules/preprocessing.html\n",
      "Please also refer to the documentation for alternative solver options:\n",
      "    https://scikit-learn.org/stable/modules/linear_model.html#logistic-regression\n",
      "  extra_warning_msg=_LOGISTIC_SOLVER_CONVERGENCE_MSG)\n"
     ]
    }
   ],
   "source": [
    "\n",
    "logreg = LogisticRegression(multi_class='multinomial', solver = 'lbfgs')\n",
    "logreg.fit(X_train, y_train)\n",
    "y_pred = logreg.predict(X_test)"
   ]
  },
  {
   "cell_type": "code",
   "execution_count": 16,
   "metadata": {},
   "outputs": [
    {
     "name": "stdout",
     "output_type": "stream",
     "text": [
      "Testing accuracy 0.3763683193818416\n",
      "Testing F1 score: 0.2912608489887156\n"
     ]
    }
   ],
   "source": [
    "\n",
    "from sklearn.metrics import accuracy_score, f1_score\n",
    "print('Testing accuracy %s' % accuracy_score(y_test, y_pred))\n",
    "print('Testing F1 score: {}'.format(f1_score(y_test, y_pred, average='weighted')))"
   ]
  },
  {
   "cell_type": "code",
   "execution_count": 17,
   "metadata": {},
   "outputs": [
    {
     "name": "stdout",
     "output_type": "stream",
     "text": [
      "                      precision    recall  f1-score   support\n",
      "\n",
      "         information       0.38      0.17      0.23       735\n",
      "      problem_report       0.00      0.00      0.00       279\n",
      "     question_answer       0.38      0.86      0.52      1098\n",
      "            requests       0.38      0.10      0.16       979\n",
      "suggestion_criticism       0.00      0.00      0.00        15\n",
      "\n",
      "            accuracy                           0.38      3106\n",
      "           macro avg       0.23      0.23      0.18      3106\n",
      "        weighted avg       0.34      0.38      0.29      3106\n",
      "\n"
     ]
    },
    {
     "name": "stderr",
     "output_type": "stream",
     "text": [
      "/home/faeze/PycharmProjects/ticket_classification/env/lib/python3.6/site-packages/sklearn/metrics/_classification.py:1221: UndefinedMetricWarning: Precision and F-score are ill-defined and being set to 0.0 in labels with no predicted samples. Use `zero_division` parameter to control this behavior.\n",
      "  _warn_prf(average, modifier, msg_start, len(result))\n"
     ]
    },
    {
     "data": {
      "image/png": "[encoded data removed]",
      "text/plain": [
       "<Figure size 360x360 with 2 Axes>"
      ]
     },
     "metadata": {
      "needs_background": "light"
     },
     "output_type": "display_data"
    }
   ],
   "source": [
    "print(metrics.classification_report(y_test, y_pred))\n",
    "cm = metrics.confusion_matrix(y_test, y_pred)\n",
    "plot_confusion_matrix(cm, target_list)"
   ]
  },
  {
   "cell_type": "markdown",
   "metadata": {},
   "source": [
    "####  Distributed Memory"
   ]
  },
  {
   "cell_type": "code",
   "execution_count": 12,
   "metadata": {},
   "outputs": [
    {
     "name": "stderr",
     "output_type": "stream",
     "text": [
      "100%|██████████| 15528/15528 [00:00<00:00, 692090.25it/s]\n"
     ]
    }
   ],
   "source": [
    "model_dm = Doc2Vec(dm=1, dm_mean=1, vector_size=vocab_size, window=10, negative=0, min_count=1, workers=5, alpha=0.065, min_alpha=0.065)\n",
    "model_dm.build_vocab([x for x in tqdm(all_tagged.values)])"
   ]
  },
  {
   "cell_type": "code",
   "execution_count": 13,
   "metadata": {
    "scrolled": true
   },
   "outputs": [
    {
     "name": "stderr",
     "output_type": "stream",
     "text": [
      "100%|██████████| 15528/15528 [00:00<00:00, 728962.48it/s]\n",
      "100%|██████████| 15528/15528 [00:00<00:00, 550770.42it/s]\n",
      "100%|██████████| 15528/15528 [00:00<00:00, 643925.02it/s]\n",
      "100%|██████████| 15528/15528 [00:00<00:00, 835106.91it/s]\n",
      "100%|██████████| 15528/15528 [00:00<00:00, 670832.89it/s]\n",
      "100%|██████████| 15528/15528 [00:00<00:00, 722332.97it/s]\n",
      "100%|██████████| 15528/15528 [00:00<00:00, 678188.48it/s]\n",
      "100%|██████████| 15528/15528 [00:00<00:00, 740432.15it/s]\n",
      "100%|██████████| 15528/15528 [00:00<00:00, 905477.04it/s]\n",
      "100%|██████████| 15528/15528 [00:00<00:00, 781994.00it/s]\n",
      "100%|██████████| 15528/15528 [00:00<00:00, 779905.79it/s]\n",
      "100%|██████████| 15528/15528 [00:00<00:00, 668780.13it/s]\n",
      "100%|██████████| 15528/15528 [00:00<00:00, 755488.50it/s]\n",
      "100%|██████████| 15528/15528 [00:00<00:00, 228789.06it/s]\n",
      "100%|██████████| 15528/15528 [00:00<00:00, 539336.13it/s]\n",
      "100%|██████████| 15528/15528 [00:00<00:00, 522945.11it/s]\n",
      "100%|██████████| 15528/15528 [00:00<00:00, 699876.99it/s]\n",
      "100%|██████████| 15528/15528 [00:00<00:00, 540293.61it/s]\n",
      "100%|██████████| 15528/15528 [00:00<00:00, 422280.41it/s]\n",
      "100%|██████████| 15528/15528 [00:00<00:00, 502129.07it/s]\n"
     ]
    },
    {
     "name": "stdout",
     "output_type": "stream",
     "text": [
      "CPU times: user 3h 53min 26s, sys: 7h 14min 40s, total: 11h 8min 6s\n",
      "Wall time: 3h 16min 25s\n"
     ]
    }
   ],
   "source": [
    "%%time\n",
    "for epoch in range(20):\n",
    "    model_dm.train(utils.shuffle([x for x in tqdm(all_tagged)]), total_examples=len(all_tagged), epochs=1)\n",
    "    model_dm.alpha -= 0.002\n",
    "    model_dm.min_alpha = model_dm.alpha"
   ]
  },
  {
   "cell_type": "code",
   "execution_count": 14,
   "metadata": {},
   "outputs": [],
   "source": [
    "def vec_for_learning(model, tagged_docs):\n",
    "    sents = tagged_docs.values\n",
    "    targets, regressors = zip(*[(doc.tags[0], model.infer_vector(doc.words, steps=20)) for doc in sents])\n",
    "    return targets, regressors"
   ]
  },
  {
   "cell_type": "code",
   "execution_count": 16,
   "metadata": {},
   "outputs": [],
   "source": [
    "y_train, X_train = vec_for_learning(model_dm, train_tagged)\n",
    "y_test, X_test = vec_for_learning(model_dm, test_tagged)\n"
   ]
  },
  {
   "cell_type": "code",
   "execution_count": null,
   "metadata": {},
   "outputs": [],
   "source": [
    "logreg = LogisticRegression(multi_class='multinomial', solver = 'lbfgs')\n",
    "logreg.fit(X_train, y_train)\n",
    "y_pred = logreg.predict(X_test)"
   ]
  },
  {
   "cell_type": "code",
   "execution_count": null,
   "metadata": {},
   "outputs": [],
   "source": [
    "\n",
    "from sklearn.metrics import accuracy_score, f1_score\n",
    "print('Testing accuracy %s' % accuracy_score(y_test, y_pred))\n",
    "print('Testing F1 score: {}'.format(f1_score(y_test, y_pred, average='weighted')))"
   ]
  },
  {
   "cell_type": "code",
   "execution_count": null,
   "metadata": {},
   "outputs": [],
   "source": [
    "print(metrics.classification_report(y_test, y_pred))\n",
    "cm = metrics.confusion_matrix(y_test, y_pred)\n",
    "plot_confusion_matrix(cm, target_list)"
   ]
  },
  {
   "cell_type": "markdown",
   "metadata": {},
   "source": [
    "#### concat model_elbow and model_dm"
   ]
  },
  {
   "cell_type": "code",
   "execution_count": null,
   "metadata": {},
   "outputs": [],
   "source": [
    "train_tagged"
   ]
  },
  {
   "cell_type": "code",
   "execution_count": null,
   "metadata": {},
   "outputs": [],
   "source": [
    "def vec_for_learning(model1, model2, tagged_docs):\n",
    "    sents = tagged_docs.values\n",
    "    vector1 = np.array([model1.infer_vector(doc.words, steps=20) for doc in sents])\n",
    "    vector2 = np.array([model2.infer_vector(doc.words, steps=20) for doc in sents])\n",
    "    print(vector1.shape, vector2.shape)\n",
    "#     regressors = np.array([np.append(model1.infer_vector(doc, steps=20),model2.infer_vector(doc, steps=20)) for doc in sents])\n",
    "    regressors = np.concatenate((vector1, vector2), axis=1)\n",
    "    print(regressors.shape)\n",
    "    targets = np.array([doc.tags[0] for doc in sents])\n",
    "    return targets, regressors"
   ]
  },
  {
   "cell_type": "code",
   "execution_count": null,
   "metadata": {},
   "outputs": [],
   "source": [
    "\n",
    "y_train, X_train = vec_for_learning(model_dbow, model_dm, train_tagged)\n",
    "y_test, X_test = vec_for_learning(model_dbow, model_dm, test_tagged)"
   ]
  },
  {
   "cell_type": "code",
   "execution_count": null,
   "metadata": {},
   "outputs": [],
   "source": [
    "\n",
    "logreg.fit(X_train, y_train)\n",
    "y_pred = logreg.predict(X_test)"
   ]
  },
  {
   "cell_type": "code",
   "execution_count": null,
   "metadata": {},
   "outputs": [],
   "source": [
    "\n",
    "from sklearn.metrics import accuracy_score, f1_score\n",
    "print('Testing accuracy %s' % accuracy_score(y_test, y_pred))\n",
    "print('Testing F1 score: {}'.format(f1_score(y_test, y_pred, average='weighted')))"
   ]
  },
  {
   "cell_type": "code",
   "execution_count": null,
   "metadata": {},
   "outputs": [],
   "source": [
    "print(metrics.classification_report(y_test, y_pred))\n",
    "metrics.confusion_matrix(y_test, y_pred)"
   ]
  },
  {
   "cell_type": "code",
   "execution_count": null,
   "metadata": {},
   "outputs": [],
   "source": [
    "df"
   ]
  },
  {
   "cell_type": "markdown",
   "metadata": {},
   "source": [
    "### Word 2 Vec"
   ]
  },
  {
   "cell_type": "code",
   "execution_count": null,
   "metadata": {},
   "outputs": [],
   "source": [
    "\n",
    "from gensim.models import phrases, word2vec"
   ]
  },
  {
   "cell_type": "code",
   "execution_count": null,
   "metadata": {},
   "outputs": [],
   "source": [
    "df['tokenized'] = df['message'].apply(lambda row: tokenize(row))\n"
   ]
  },
  {
   "cell_type": "code",
   "execution_count": null,
   "metadata": {},
   "outputs": [],
   "source": [
    "bigrams = phrases.Phrases(df['tokenized'])"
   ]
  },
  {
   "cell_type": "code",
   "execution_count": null,
   "metadata": {},
   "outputs": [],
   "source": [
    "words = df['tokenized'].values"
   ]
  },
  {
   "cell_type": "code",
   "execution_count": null,
   "metadata": {},
   "outputs": [],
   "source": [
    "w2v = word2vec.Word2Vec(bigrams[words], size=vocab_size, window=5, min_count=1, workers=4)"
   ]
  },
  {
   "cell_type": "code",
   "execution_count": null,
   "metadata": {},
   "outputs": [],
   "source": [
    "w2v.wv.vocab"
   ]
  },
  {
   "cell_type": "code",
   "execution_count": null,
   "metadata": {},
   "outputs": [],
   "source": [
    "def document_vector(doc):\n",
    "    \"\"\"Create document vectors by averaging word vectors. Remove out-of-vocabulary words.\"\"\"\n",
    "    doc = np.array([word for word in doc if word in w2v.wv.vocab])\n",
    "    \n",
    "    return np.mean(w2v[doc], axis=0)"
   ]
  },
  {
   "cell_type": "code",
   "execution_count": null,
   "metadata": {},
   "outputs": [],
   "source": [
    "train['doc_vector'] = train.message.apply(document_vector)\n",
    "test['doc_vector'] = test.message.apply(document_vector)"
   ]
  },
  {
   "cell_type": "code",
   "execution_count": null,
   "metadata": {},
   "outputs": [],
   "source": [
    "X_train = np.stack(train['doc_vector'], axis=0)\n",
    "X_test = np.stack(test['doc_vector'], axis=0)"
   ]
  },
  {
   "cell_type": "code",
   "execution_count": null,
   "metadata": {},
   "outputs": [],
   "source": [
    "logreg = LogisticRegression(multi_class='multinomial', solver = 'lbfgs')\n",
    "\n",
    "logreg.fit(X_train, y_train)\n",
    "y_pred = logreg.predict(X_test)"
   ]
  },
  {
   "cell_type": "code",
   "execution_count": null,
   "metadata": {},
   "outputs": [],
   "source": [
    "\n",
    "from sklearn.metrics import accuracy_score, f1_score\n",
    "print('Testing accuracy %s' % accuracy_score(y_test, y_pred))\n",
    "print('Testing F1 score: {}'.format(f1_score(y_test, y_pred, average='weighted')))"
   ]
  },
  {
   "cell_type": "code",
   "execution_count": null,
   "metadata": {},
   "outputs": [],
   "source": [
    "print(metrics.classification_report(y_test, y_pred))\n",
    "cm = metrics.confusion_matrix(y_test, y_pred)\n",
    "plot_confusion_matrix(cm, target_list)"
   ]
  },
  {
   "cell_type": "markdown",
   "metadata": {},
   "source": [
    "### tfidf & model_em"
   ]
  },
  {
   "cell_type": "code",
   "execution_count": 12,
   "metadata": {},
   "outputs": [],
   "source": [
    "# from gensim.test.utils import get_tmpfile\n",
    "# fname = get_tmpfile('level1_doc2vec_model')\n",
    "# model_dm.save(PATH+fname)\n",
    "model_dm = Doc2Vec.load(PATH+'/level1_doc2vec_model.wv.vectors.npy')"
   ]
  },
  {
   "cell_type": "code",
   "execution_count": 13,
   "metadata": {},
   "outputs": [],
   "source": [
    "vect = TfidfVectorizer(strip_accents='unicode', tokenizer=None, ngram_range=(1, 3), max_df=0.75, min_df=3, sublinear_tf=True)"
   ]
  },
  {
   "cell_type": "code",
   "execution_count": 14,
   "metadata": {},
   "outputs": [],
   "source": [
    "tfidf_df = vect.fit_transform(df['message'].values)"
   ]
  },
  {
   "cell_type": "code",
   "execution_count": 15,
   "metadata": {},
   "outputs": [],
   "source": [
    "def vec_for_learning(model1, tfidf_model, tagged_docs, docs):\n",
    "    sents = tagged_docs.values\n",
    "    vector1 = np.array([model1.infer_vector(doc.words, steps=20) for doc in sents])\n",
    "    vector2 = tfidf_model.transform(docs).toarray()\n",
    "#     print( vector1.shape, vector2.shape )\n",
    "#     regressors = np.array([np.append(model1.infer_vector(doc, steps=20),model2.infer_vector(doc, steps=20)) for doc in sents])\n",
    "    regressors = np.concatenate((vector1, vector2), axis=1)\n",
    "#     print(regressors.shape)\n",
    "    targets = np.array([doc.tags[0] for doc in sents])\n",
    "    return targets, regressors"
   ]
  },
  {
   "cell_type": "code",
   "execution_count": null,
   "metadata": {},
   "outputs": [],
   "source": [
    "y_train, X_train = vec_for_learning(model_dm, vect, train_tagged, train['message'].values)\n",
    "y_test, X_test = vec_for_learning(model_dm, vect, test_tagged, test['message'].values)\n"
   ]
  },
  {
   "cell_type": "code",
   "execution_count": null,
   "metadata": {},
   "outputs": [],
   "source": [
    "logreg = LogisticRegression(C=22, class_weight='balanced', max_iter=1000, multi_class='multinomial')\n",
    "logreg.fit(X_train, y_train)\n",
    "y_pred = logreg.predict(X_test)"
   ]
  },
  {
   "cell_type": "code",
   "execution_count": null,
   "metadata": {},
   "outputs": [],
   "source": [
    "# svm_model = SVC(C=10, kernel='rbf', gamma='scale', class_weight='balanced', probability=True)\n",
    "# svm_model.fit(X_train, y_train)\n",
    "# y_pred = svm_model.predict(X_test)"
   ]
  },
  {
   "cell_type": "code",
   "execution_count": null,
   "metadata": {},
   "outputs": [],
   "source": [
    "\n",
    "from sklearn.metrics import accuracy_score, f1_score\n",
    "print('Testing accuracy %s' % accuracy_score(y_test, y_pred))\n",
    "print('Testing F1 score: {}'.format(f1_score(y_test, y_pred, average='weighted')))"
   ]
  },
  {
   "cell_type": "code",
   "execution_count": null,
   "metadata": {
    "scrolled": false
   },
   "outputs": [],
   "source": [
    "print(metrics.classification_report(y_test, y_pred))\n",
    "cm = metrics.confusion_matrix(y_test, y_pred)\n",
    "plot_confusion_matrix(cm, target_list)"
   ]
  },
  {
   "cell_type": "code",
   "execution_count": null,
   "metadata": {},
   "outputs": [],
   "source": [
    "\n",
    "input_sample = ['با سلام  یکت نمیتوانم بفرستم و لینک ها هم درست کار نمی کنند']\n",
    "for i in range(10):\n",
    "    x = np.array(input_sample)\n",
    "    t = pd.DataFrame(x)\n",
    "    \n",
    "    t_tagged = t[0].apply(lambda r: r.split())\n",
    "    _, v = vec_for_learning(model_dm, vect, t_tagged, t[0].values)\n",
    "    p = logreg.predict(v)\n",
    "    c = np.max(logreg.predict_proba(v), axis=1)\n",
    "    print(p, c)"
   ]
  },
  {
   "cell_type": "code",
   "execution_count": null,
   "metadata": {},
   "outputs": [],
   "source": [
    "# import pickle\n",
    "# model_path='data/model/level2_model_LR.pkl'\n",
    "# vect_path='data/model/level2_vect_tfidf.pkl'\n",
    "# vect_doc2vec_path='data/model/level2_vect_doc2vec.pkl'\n",
    "\n",
    "# base_path = PATH #os.path.dirname(os.path.abspath(__file__))\n",
    "\n",
    "# with open(os.path.join(base_path, model_path), 'wb') as file:\n",
    "#     pickle.dump(logreg, file)\n",
    "# with open(os.path.join(base_path, vect_path), 'wb') as file:\n",
    "#     pickle.dump(vect, file)\n",
    "# with open(os.path.join(base_path, vect_doc2vec_path), 'wb') as file:\n",
    "#     pickle.dump(model_dm, file)\n"
   ]
  },
  {
   "cell_type": "code",
   "execution_count": null,
   "metadata": {},
   "outputs": [],
   "source": [
    "df = pd.DataFrame(y_train)\n",
    "\n",
    "from ai_nlp_bazaar_ticket_classification.label_config import *\n",
    "df[1] = df[0].apply(lambda x: FirstLevelIndexes.get(x))\n",
    "np.unique(df[1])"
   ]
  },
  {
   "cell_type": "code",
   "execution_count": null,
   "metadata": {},
   "outputs": [],
   "source": [
    "from sklearn.manifold import TSNE\n",
    "tsne = TSNE(n_components=2, verbose=1, random_state=7, angle=.99, init='pca')\n",
    "reduced_features = tsne.fit_transform(X_train)\n",
    "# plt.scatter(reduced_features[:,0], reduced_features[:,1], c=df[1].values)\n"
   ]
  },
  {
   "cell_type": "code",
   "execution_count": null,
   "metadata": {},
   "outputs": [],
   "source": [
    "data = [reduced_features[np.where(df[1] == i)] for i in range(5)]\n",
    "colors = [\"red\", \"blue\", \"brown\", \"yellow\", \"green\"]\n",
    "groups = list(FirstLevelIndexes.keys())\n",
    "\n",
    "# Create plot\n",
    "fig, ax = plt.subplots()\n",
    "\n",
    "for data, color, group in zip(data, colors, groups):\n",
    "    x = data[:, 0]\n",
    "    y = data[:, 1]\n",
    "    ax.scatter(x, y, alpha=0.8, c=color, edgecolors='none', s=30, label=group)\n",
    "\n",
    "plt.title('Matplot scatter plot')\n",
    "plt.legend(loc=2)\n",
    "plt.show()"
   ]
  },
  {
   "cell_type": "code",
   "execution_count": null,
   "metadata": {},
   "outputs": [],
   "source": [
    "preds = logreg.predict(X_test)\n",
    "confs = np.max(logreg.predict_proba(X_test), axis=1)\n",
    "preds_df = pd.DataFrame(preds)\n",
    "if isinstance(preds_df[0][0], int):\n",
    "    preds_df[0] = preds_df[0].apply(lambda x: index2label(x))\n",
    "result = np.stack((preds_df[0].values, confs), axis=1)"
   ]
  },
  {
   "cell_type": "code",
   "execution_count": null,
   "metadata": {},
   "outputs": [],
   "source": [
    "test[3] = preds_df[0]\n",
    "np.savetxt(os.path.join(PATH, 'data/data/level1_error.csv'), test[preds!=y_test], fmt=\"%s\", delimiter=\",\")"
   ]
  },
  {
   "cell_type": "code",
   "execution_count": null,
   "metadata": {},
   "outputs": [],
   "source": [
    "test"
   ]
  },
  {
   "cell_type": "code",
   "execution_count": null,
   "metadata": {},
   "outputs": [],
   "source": []
  }
 ],
 "metadata": {
  "kernelspec": {
   "display_name": "Python 3",
   "language": "python",
   "name": "python3"
  },
  "language_info": {
   "codemirror_mode": {
    "name": "ipython",
    "version": 3
   },
   "file_extension": ".py",
   "mimetype": "text/x-python",
   "name": "python",
   "nbconvert_exporter": "python",
   "pygments_lexer": "ipython3",
   "version": "3.6.9"
  }
 },
 "nbformat": 4,
 "nbformat_minor": 4
}
